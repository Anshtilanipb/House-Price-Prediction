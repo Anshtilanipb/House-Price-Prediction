{
  "nbformat": 4,
  "nbformat_minor": 0,
  "metadata": {
    "colab": {
      "provenance": []
    },
    "kernelspec": {
      "name": "python3",
      "display_name": "Python 3"
    },
    "language_info": {
      "name": "python"
    }
  },
  "cells": [
    {
      "cell_type": "code",
      "execution_count": null,
      "metadata": {
        "id": "mpdezhXPsx4J"
      },
      "outputs": [],
      "source": [
        "#Import Libraries\n",
        "from flask import Flask, request, render_template\n",
        "\n",
        "import model # load model.py\n",
        "\n",
        "app = Flask(__name__)\n",
        "\n",
        "# render htmp page\n",
        "@app.route('/')\n",
        "def home():\n",
        "    return render_template('index.html')\n",
        "\n",
        "@app.route('/predict',methods=['POST'])\n",
        "def predict():\n",
        "\n",
        "\n",
        "    input_features = [x for x in request.form.values()]\n",
        "    bath = input_features[0]\n",
        "    balcony = input_features[1]\n",
        "    total_sqft_int = input_features[2]\n",
        "    bhk = input_features[3]\n",
        "    price_per_sqft = input_features[4]\n",
        "    area_type = input_features[5]\n",
        "    availability = input_features[6]\n",
        "    location = input_features[7]\n",
        "\n",
        "    # predict the price of house by calling model.py\n",
        "    predicted_price = model.predict_house_price(bath,balcony,total_sqft_int,bhk,price_per_sqft,area_type,availability,location)\n",
        "\n",
        "\n",
        "    # render the html page and show the output\n",
        "    return render_template('index.html', prediction_text='Predicted Price of Bangalore House is {}'.format(predicted_price))\n",
        "\n",
        "\n",
        "\n",
        "if __name__ == \"__main__\":\n",
        "    app.run()"
      ]
    }
  ]
}