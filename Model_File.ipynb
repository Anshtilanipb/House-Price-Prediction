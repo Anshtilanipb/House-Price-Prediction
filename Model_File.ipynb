{
  "nbformat": 4,
  "nbformat_minor": 0,
  "metadata": {
    "colab": {
      "provenance": []
    },
    "kernelspec": {
      "name": "python3",
      "display_name": "Python 3"
    },
    "language_info": {
      "name": "python"
    }
  },
  "cells": [
    {
      "cell_type": "code",
      "execution_count": null,
      "metadata": {
        "id": "mpdezhXPsx4J"
      },
      "outputs": [],
      "source": [
        "#Import Libraries\n",
        "import numpy as np\n",
        "import pandas as pd\n",
        "import joblib\n",
        "\n",
        "from sklearn.preprocessing import StandardScaler\n",
        "from sklearn.model_selection import train_test_split\n",
        "\n",
        "#load data\n",
        "df = pd.read_csv(\"data/ohe_data_reduce_cat_class.csv\")\n",
        "\n",
        "# Split data\n",
        "X= df.drop('price', axis=1)\n",
        "y= df['price']\n",
        "X_train, X_test, y_train, y_test = train_test_split(X,y, test_size=0.2, random_state=51)\n",
        "\n",
        "# feature scaling\n",
        "sc = StandardScaler()\n",
        "sc.fit(X_train)\n",
        "X_train = sc.transform(X_train)\n",
        "X_test = sc.transform(X_test)\n",
        "\n",
        "\n",
        "###### Load Model\n",
        "\n",
        "model = joblib.load('bangalore_house_price_prediction_rfr_model.pkl')\n",
        "\n",
        "\n",
        "\n",
        "def predict_house_price(bath,balcony,total_sqft_int,bhk,price_per_sqft,area_type,availability,location):\n",
        "\n",
        "  x =np.zeros(len(X.columns))\n",
        "\n",
        "  x[0]=bath\n",
        "  x[1]=balcony\n",
        "  x[2]=total_sqft_int\n",
        "  x[3]=bhk\n",
        "  x[4]=price_per_sqft\n",
        "\n",
        "  if \"availability\"==\"Ready To Move\":\n",
        "    x[8]=1\n",
        "\n",
        "  if 'area_type'+area_type in X.columns:\n",
        "    area_type_index = np.where(X.columns==\"area_type\"+area_type)[0][0]\n",
        "    x[area_type_index] =1\n",
        "\n",
        "  if 'location_'+location in X.columns:\n",
        "    loc_index = np.where(X.columns==\"location_\"+location)[0][0]\n",
        "    x[loc_index] =1\n",
        "\n",
        "  # feature scaling\n",
        "  x = sc.transform([x])[0]\n",
        "\n",
        "  return model.predict([x])[0]"
      ]
    }
  ]
}